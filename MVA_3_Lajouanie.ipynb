{
 "cells": [
  {
   "cell_type": "markdown",
   "metadata": {},
   "source": [
    "**You may need to install [OpenCV](https://pypi.python.org/pypi/opencv-python) and [scikit-video](http://www.scikit-video.org/stable/).**"
   ]
  },
  {
   "cell_type": "code",
   "execution_count": 1,
   "metadata": {},
   "outputs": [
    {
     "name": "stderr",
     "output_type": "stream",
     "text": [
      "Using TensorFlow backend.\n"
     ]
    }
   ],
   "source": [
    "import keras\n",
    "import numpy as np\n",
    "import io\n",
    "import base64\n",
    "from IPython.display import HTML\n",
    "import skvideo.io\n",
    "import cv2\n",
    "import json\n",
    "\n",
    "from keras.models import Sequential,model_from_json\n",
    "from keras.layers.core import Dense, Flatten\n",
    "from keras.optimizers import sgd\n",
    "from keras.layers import Conv2D, MaxPooling2D, Activation, AveragePooling2D,Reshape,BatchNormalization"
   ]
  },
  {
   "cell_type": "markdown",
   "metadata": {},
   "source": [
    "# MiniProject #3: Deep Reinforcement Learning"
   ]
  },
  {
   "cell_type": "markdown",
   "metadata": {},
   "source": [
    "__Notations__: $E_p$ is the expectation under probability $p$. Please justify each of your answer and widely comment your code."
   ]
  },
  {
   "cell_type": "markdown",
   "metadata": {},
   "source": [
    "# Context"
   ]
  },
  {
   "cell_type": "markdown",
   "metadata": {},
   "source": [
    "In a reinforcement learning algorithm, we modelize each step $t$ as an action $a_t$ obtained from a state $s_t$, i.e. $\\{(a_{t},s_{t})_{t\\leq T}\\}$ having the Markov property. We consider a discount factor $\\gamma \\in [0,1]$ that ensures convergence. The goal is to find among all the policies $\\pi$, one that maximizes the expected reward:\n",
    "\n",
    "\\begin{equation*}\n",
    "R(\\pi)=\\sum_{t\\leq T}E_{p^{\\pi}}[\\gamma^t r(s_{t},a_{t})] \\> ,\n",
    "\\end{equation*}\n",
    "\n",
    "where: \n",
    "\\begin{equation*}p^{\\pi}(a_{0},a_{1},s_{1},...,a_{T},s_{T})=p(a_{0})\\prod_{t=1}^{T}\\pi(a_{t}|s_{t})p(s_{t+1}|s_{t},a_{t}) \\> .\n",
    "\\end{equation*}\n",
    "\n",
    "We note the $Q$-function:\n",
    "\n",
    "\\begin{equation*}Q^\\pi(s,a)=E_{p^{\\pi}}[\\sum_{t\\leq T}\\gamma^{t}r(s_{t},a_{t})|s_{0}=s,a_{0}=a] \\> .\n",
    "\\end{equation*}\n",
    "\n",
    "Thus, the optimal Q function is:\n",
    "\\begin{equation*}\n",
    "Q^*(s,a)=\\max_{\\pi}Q^\\pi(s,a) \\> .\n",
    "\\end{equation*}\n",
    "\n",
    "In this project, we will apply the deep reinforcement learning techniques to a simple game: an agent will have to learn from scratch a policy that will permit it maximizing a reward."
   ]
  },
  {
   "cell_type": "markdown",
   "metadata": {},
   "source": [
    "## The environment, the agent and the game"
   ]
  },
  {
   "cell_type": "markdown",
   "metadata": {},
   "source": [
    "### The environment"
   ]
  },
  {
   "cell_type": "markdown",
   "metadata": {},
   "source": [
    "```Environment``` is an abstract class that represents the states, rewards, and actions to obtain the new state."
   ]
  },
  {
   "cell_type": "code",
   "execution_count": 2,
   "metadata": {},
   "outputs": [],
   "source": [
    "class Environment(object):\n",
    "    def __init__(self):\n",
    "        pass\n",
    "\n",
    "    def act(self, act):\n",
    "        \"\"\"\n",
    "        One can act on the environment and obtain its reaction:\n",
    "        - the new state\n",
    "        - the reward of the new state\n",
    "        - should we continue the game?\n",
    "\n",
    "        :return: state, reward, game_over\n",
    "        \"\"\"\n",
    "        pass\n",
    "\n",
    "\n",
    "    def reset(self):\n",
    "        \"\"\"\n",
    "        Reinitialize the environment to a random state and returns\n",
    "        the original state\n",
    "\n",
    "        :return: state\n",
    "        \"\"\"\n",
    "        pass\n",
    "    \n",
    "    def draw(self):\n",
    "        \"\"\"\n",
    "        Visualize in the console or graphically the current state\n",
    "        \"\"\"\n",
    "        pass"
   ]
  },
  {
   "cell_type": "markdown",
   "metadata": {},
   "source": [
    "The method ```act``` allows to act on the environment at a given state $s_t$ (stored internally), via action $a_t$. The method will return the new state $s_{t+1}$, the reward $r(s_{t},a_{t})$ and determines if $t\\leq T$ (*game_over*).\n",
    "\n",
    "The method ```reset``` simply reinitializes the environment to a random state $s_0$.\n",
    "\n",
    "The method ```draw``` displays the current state $s_t$ (this is useful to check the behavior of the Agent).\n",
    "\n",
    "We modelize $s_t$ as a tensor, while $a_t$ is an integer."
   ]
  },
  {
   "cell_type": "markdown",
   "metadata": {},
   "source": [
    "### The Agent"
   ]
  },
  {
   "cell_type": "markdown",
   "metadata": {},
   "source": [
    "The goal of the ```Agent``` is to interact with the ```Environment``` by proposing actions $a_t$ obtained from a given state $s_t$ to attempt to maximize its __reward__ $r(s_t,a_t)$. We propose the following abstract class:"
   ]
  },
  {
   "cell_type": "code",
   "execution_count": 3,
   "metadata": {},
   "outputs": [],
   "source": [
    "class Agent(object):\n",
    "    def __init__(self, epsilon=0.1, n_action=4):\n",
    "        self.epsilon = epsilon\n",
    "        self.n_action = n_action\n",
    "    \n",
    "    def set_epsilon(self,e):\n",
    "        self.epsilon = e\n",
    "\n",
    "    def act(self,s,train=True):\n",
    "        \"\"\" This function should return the next action to do:\n",
    "        an integer between 0 and 4 (not included) with a random exploration of epsilon\"\"\"\n",
    "        if train:\n",
    "            if np.random.rand() <= self.epsilon:\n",
    "                a = np.random.randint(0, self.n_action, size=1)[0]\n",
    "            else:\n",
    "                a = self.learned_act(s)\n",
    "        else: # in some cases, this can improve the performance.. remove it if poor performances\n",
    "            a = self.learned_act(s)\n",
    "\n",
    "        return a\n",
    "\n",
    "    def learned_act(self,s):\n",
    "        \"\"\" Act via the policy of the agent, from a given state s\n",
    "        it proposes an action a\"\"\"\n",
    "        pass\n",
    "\n",
    "    def reinforce(self, s, n_s, a, r, game_over_):\n",
    "        \"\"\" This function is the core of the learning algorithm. \n",
    "        It takes as an input the current state s_, the next state n_s_\n",
    "        the action a_ used to move from s_ to n_s_ and the reward r_.\n",
    "        \n",
    "        Its goal is to learn a policy.\n",
    "        \"\"\"\n",
    "        pass\n",
    "\n",
    "    def save(self):\n",
    "        \"\"\" This function returns basic stats if applicable: the\n",
    "        loss and/or the model\"\"\"\n",
    "        pass\n",
    "\n",
    "    def load(self):\n",
    "        \"\"\" This function allows to restore a model\"\"\"\n",
    "        pass"
   ]
  },
  {
   "cell_type": "markdown",
   "metadata": {},
   "source": [
    "***\n",
    "__Question 1__:\n",
    "Explain the function act. Why is ```epsilon``` essential?"
   ]
  },
  {
   "cell_type": "markdown",
   "metadata": {},
   "source": [
    "Without epsilon, there is no exploration. The algorithm just selects actions step by step without exploring new paths."
   ]
  },
  {
   "cell_type": "markdown",
   "metadata": {},
   "source": [
    "***\n",
    "### The Game"
   ]
  },
  {
   "cell_type": "markdown",
   "metadata": {},
   "source": [
    "The ```Agent``` and the ```Environment``` work in an interlaced way as in the following (take some time to understand this code as it is the core of the project)\n",
    "\n",
    "```python\n",
    "\n",
    "epoch = 300\n",
    "env = Environment()\n",
    "agent = Agent()\n",
    "\n",
    "\n",
    "# Number of won games\n",
    "score = 0\n",
    "loss = 0\n",
    "\n",
    "\n",
    "for e in range(epoch):\n",
    "    # At each epoch, we restart to a fresh game and get the initial state\n",
    "    state = env.reset()\n",
    "    # This assumes that the games will end\n",
    "    game_over = False\n",
    "\n",
    "    win = 0\n",
    "    lose = 0\n",
    "    \n",
    "    while not game_over:\n",
    "        # The agent performs an action\n",
    "        action = agent.act(state)\n",
    "\n",
    "        # Apply an action to the environment, get the next state, the reward\n",
    "        # and if the games end\n",
    "        prev_state = state\n",
    "        state, reward, game_over = env.act(action)\n",
    "\n",
    "        # Update the counters\n",
    "        if reward > 0:\n",
    "            win = win + reward\n",
    "        if reward < 0:\n",
    "            lose = lose -reward\n",
    "\n",
    "        # Apply the reinforcement strategy\n",
    "        loss = agent.reinforce(prev_state, state,  action, reward, game_over)\n",
    "\n",
    "    # Save as a mp4\n",
    "    if e % 10 == 0:\n",
    "        env.draw(e)\n",
    "\n",
    "    # Update stats\n",
    "    score += win-lose\n",
    "\n",
    "    print(\"Epoch {:03d}/{:03d} | Loss {:.4f} | Win/lose count {}/{} ({})\"\n",
    "          .format(e, epoch, loss, win, lose, win-lose))\n",
    "    agent.save()\n",
    "```"
   ]
  },
  {
   "cell_type": "markdown",
   "metadata": {},
   "source": [
    "# The game, *eat cheese*"
   ]
  },
  {
   "cell_type": "markdown",
   "metadata": {},
   "source": [
    "A rat runs on an island and tries to eat as much as possible. The island is subdivided into $N\\times N$ cells, in which there are cheese (+0.5) and poisonous cells (-1). The rat has a visibility of 2 cells (thus it can see $5^2$ cells). The rat is given a time $T$ to accumulate as much food as possible. It can perform 4 actions: going up, down, left, right. \n",
    "\n",
    "The goal is to code an agent to solve this task that will learn by trial and error. We propose the following environment:"
   ]
  },
  {
   "cell_type": "code",
   "execution_count": 4,
   "metadata": {},
   "outputs": [],
   "source": [
    "class Environment(object):\n",
    "    def __init__(self, grid_size=10, max_time=500, temperature=0.1):\n",
    "        grid_size = grid_size+4\n",
    "        self.grid_size = grid_size\n",
    "        self.max_time = max_time\n",
    "        self.temperature = temperature\n",
    "\n",
    "        #board on which one plays\n",
    "        self.board = np.zeros((grid_size,grid_size))\n",
    "        self.position = np.zeros((grid_size,grid_size))\n",
    "\n",
    "        # coordinate of the cat\n",
    "        self.x = 0\n",
    "        self.y = 1\n",
    "\n",
    "        # self time\n",
    "        self.t = 0\n",
    "\n",
    "        self.scale=16\n",
    "\n",
    "        self.to_draw = np.zeros((max_time+2, grid_size*self.scale, grid_size*self.scale, 3))\n",
    "\n",
    "\n",
    "    def draw(self,e):\n",
    "        skvideo.io.vwrite(str(e) + '.mp4', self.to_draw)\n",
    "\n",
    "    def get_frame(self,t):\n",
    "        b = np.zeros((self.grid_size,self.grid_size,3))+128\n",
    "        b[self.board>0,0] = 256\n",
    "        b[self.board < 0, 2] = 256\n",
    "        b[self.x,self.y,:]=256\n",
    "        b[-2:,:,:]=0\n",
    "        b[:,-2:,:]=0\n",
    "        b[:2,:,:]=0\n",
    "        b[:,:2,:]=0\n",
    "        b =  cv2.resize(b, None, fx=self.scale, fy=self.scale, interpolation=cv2.INTER_NEAREST)\n",
    "        self.to_draw[t,:,:,:]=b\n",
    "\n",
    "\n",
    "    def act(self, action):\n",
    "        \"\"\"This function returns the new state, reward and decides if the\n",
    "        game ends.\"\"\"\n",
    "\n",
    "        self.get_frame(int(self.t))\n",
    "\n",
    "        self.position = np.zeros((self.grid_size, self.grid_size))\n",
    "\n",
    "        self.position[0:2,:]= -1\n",
    "        self.position[:,0:2] = -1\n",
    "        self.position[-2:, :] = -1\n",
    "        self.position[:, -2:] = -1\n",
    "\n",
    "        self.position[self.x, self.y] = 1\n",
    "        if action == 0:\n",
    "            if self.x == self.grid_size-3:\n",
    "                self.x = self.x-1\n",
    "            else:\n",
    "                self.x = self.x + 1\n",
    "        elif action == 1:\n",
    "            if self.x == 2:\n",
    "                self.x = self.x+1\n",
    "            else:\n",
    "                self.x = self.x-1\n",
    "        elif action == 2:\n",
    "            if self.y == self.grid_size - 3:\n",
    "                self.y = self.y - 1\n",
    "            else:\n",
    "                self.y = self.y + 1\n",
    "        elif action == 3:\n",
    "            if self.y == 2:\n",
    "                self.y = self.y + 1\n",
    "            else:\n",
    "                self.y = self.y - 1\n",
    "        else:\n",
    "            RuntimeError('Error: action not recognized')\n",
    "\n",
    "        self.t = self.t + 1\n",
    "        reward = self.board[self.x, self.y]\n",
    "        self.board[self.x, self.y] = 0\n",
    "        game_over = self.t > self.max_time \n",
    "        state = np.concatenate((self.board.reshape(self.grid_size, self.grid_size,1),\n",
    "                        self.position.reshape(self.grid_size, self.grid_size,1)),axis=2)\n",
    "        state = state[self.x-2:self.x+3,self.y-2:self.y+3,:]\n",
    "\n",
    "        return state, reward, game_over\n",
    " \n",
    "    def reset(self):\n",
    "        \"\"\"This function resets the game and returns the initial state\"\"\"\n",
    "\n",
    "        self.x = np.random.randint(3, self.grid_size-3, size=1)[0]\n",
    "        self.y = np.random.randint(3, self.grid_size-3, size=1)[0]\n",
    "\n",
    "\n",
    "        bonus = 0.5*np.random.binomial(1,self.temperature,size=self.grid_size**2)\n",
    "        bonus = bonus.reshape(self.grid_size,self.grid_size)\n",
    "\n",
    "        malus = -1.0*np.random.binomial(1,self.temperature,size=self.grid_size**2)\n",
    "        malus = malus.reshape(self.grid_size, self.grid_size)\n",
    "\n",
    "        self.to_draw = np.zeros((self.max_time+2, self.grid_size*self.scale, self.grid_size*self.scale, 3))\n",
    "\n",
    "\n",
    "        malus[bonus>0]=0\n",
    "\n",
    "        self.board = bonus + malus\n",
    "\n",
    "        self.position = np.zeros((self.grid_size, self.grid_size))\n",
    "        self.position[0:2,:]= -1\n",
    "        self.position[:,0:2] = -1\n",
    "        self.position[-2:, :] = -1\n",
    "        self.position[:, -2:] = -1\n",
    "        self.board[self.x,self.y] = 0\n",
    "        self.t = 0\n",
    "\n",
    "        state = np.concatenate((\n",
    "                               self.board.reshape(self.grid_size, self.grid_size,1),\n",
    "                        self.position.reshape(self.grid_size, self.grid_size,1)),axis=2)\n",
    "\n",
    "        state = state[self.x - 2:self.x + 3, self.y - 2:self.y + 3, :]\n",
    "        return state"
   ]
  },
  {
   "cell_type": "markdown",
   "metadata": {},
   "source": [
    "The following elements are important because they correspond to the hyper parameters for this project:"
   ]
  },
  {
   "cell_type": "code",
   "execution_count": 5,
   "metadata": {},
   "outputs": [],
   "source": [
    "# parameters\n",
    "size = 13\n",
    "T=200\n",
    "temperature=0.3\n",
    "epochs_train=5 # set small when debugging\n",
    "epochs_test=5 # set small when debugging\n",
    "\n",
    "# display videos\n",
    "def display_videos(name):\n",
    "    video = io.open(name, 'r+b').read()\n",
    "    encoded = base64.b64encode(video)\n",
    "    return '''<video alt=\"test\" controls>\n",
    "                <source src=\"data:video/mp4;base64,{0}\" type=\"video/mp4\" />\n",
    "             </video>'''.format(encoded.decode('ascii'))"
   ]
  },
  {
   "cell_type": "markdown",
   "metadata": {},
   "source": [
    "__Question 2__ Explain the use of the arrays ```position``` and ```board```."
   ]
  },
  {
   "cell_type": "markdown",
   "metadata": {},
   "source": [
    "Board is a 2D array that represents the bonus and malus for the reward function (+0.5 or -1). board[x,y] gives us the reward of the (x,y) block. Position is a 2D array. It is filled with -1, 0 and 1. -1 means that this part of the board is not accessible. 1 is the current position of the mouse. The rest is filled with 0s."
   ]
  },
  {
   "cell_type": "markdown",
   "metadata": {},
   "source": [
    "## Random Agent"
   ]
  },
  {
   "cell_type": "markdown",
   "metadata": {},
   "source": [
    "***\n",
    "__Question 3__ Implement a random Agent (only ```learned_act``` needs to be implemented):"
   ]
  },
  {
   "cell_type": "code",
   "execution_count": 6,
   "metadata": {},
   "outputs": [],
   "source": [
    "class RandomAgent(Agent):\n",
    "    def __init__(self):\n",
    "        super(RandomAgent, self).__init__()\n",
    "        pass\n",
    "\n",
    "    def learned_act(self, s):\n",
    "        return np.random.choice(4,1)[0]"
   ]
  },
  {
   "cell_type": "markdown",
   "metadata": {},
   "source": [
    "***\n",
    "***\n",
    "__Question 4__ Visualize the game moves. You need to fill in the following function for the evaluation:"
   ]
  },
  {
   "cell_type": "code",
   "execution_count": 7,
   "metadata": {},
   "outputs": [],
   "source": [
    "def test(agent,env,epochs,prefix=''):\n",
    "    # Number of won games\n",
    "    score = 0\n",
    "    for e in range(epochs):\n",
    "        cur_state = env.reset()\n",
    "        win = 0 \n",
    "        lose = 0\n",
    "        game_over = False\n",
    "        while not game_over :\n",
    "            action = agent.learned_act(cur_state)\n",
    "            cur_state, reward, game_over = env.act(action)\n",
    "            if reward > 0 :\n",
    "                win += reward\n",
    "            else :\n",
    "                lose += reward\n",
    "        # Save as a mp4\n",
    "        env.draw(prefix+str(e))\n",
    "        \n",
    "        # Update stats\n",
    "        score = score + win-lose\n",
    "\n",
    "        print(\"Win/lose count {}/{}. Average score ({})\"\n",
    "              .format(win, lose, score/(1+e)))\n",
    "    print('Final score: '+str(score/epochs))"
   ]
  },
  {
   "cell_type": "code",
   "execution_count": 8,
   "metadata": {},
   "outputs": [
    {
     "name": "stdout",
     "output_type": "stream",
     "text": [
      "Win/lose count 12.0/-12.0. Average score (24.0)\n",
      "Win/lose count 9.5/-15.0. Average score (24.25)\n",
      "Win/lose count 9.0/-21.0. Average score (26.166666666666668)\n",
      "Win/lose count 12.5/-12.0. Average score (25.75)\n",
      "Win/lose count 10.0/-15.0. Average score (25.6)\n",
      "Final score: 25.6\n"
     ]
    },
    {
     "data": {
      "text/html": [
       "<video alt=\"test\" controls>\n",
       "                <source src=\"data:video/mp4;base64,AAAAIGZ0eXBpc29tAAACAGlzb21pc28yYXZjMW1wNDEAAAAIZnJlZQAAGGdtZGF0AAACrQYF//+p3EXpvebZSLeWLNgg2SPu73gyNjQgLSBjb3JlIDE1NyByMjkzNSA1NDVkZTJmIC0gSC4yNjQvTVBFRy00IEFWQyBjb2RlYyAtIENvcHlsZWZ0IDIwMDMtMjAxOCAtIGh0dHA6Ly93d3cudmlkZW9sYW4ub3JnL3gyNjQuaHRtbCAtIG9wdGlvbnM6IGNhYmFjPTEgcmVmPTMgZGVibG9jaz0xOjA6MCBhbmFseXNlPTB4MToweDExMSBtZT1oZXggc3VibWU9NyBwc3k9MSBwc3lfcmQ9MS4wMDowLjAwIG1peGVkX3JlZj0xIG1lX3JhbmdlPTE2IGNocm9tYV9tZT0xIHRyZWxsaXM9MSA4eDhkY3Q9MCBjcW09MCBkZWFkem9uZT0yMSwxMSBmYXN0X3Bza2lwPTEgY2hyb21hX3FwX29mZnNldD00IHRocmVhZHM9OCBsb29rYWhlYWRfdGhyZWFkcz0xIHNsaWNlZF90aHJlYWRzPTAgbnI9MCBkZWNpbWF0ZT0xIGludGVybGFjZWQ9MCBibHVyYXlfY29tcGF0PTAgY29uc3RyYWluZWRfaW50cmE9MCBiZnJhbWVzPTMgYl9weXJhbWlkPTIgYl9hZGFwdD0xIGJfYmlhcz0wIGRpcmVjdD0xIHdlaWdodGI9MSBvcGVuX2dvcD0wIHdlaWdodHA9MiBrZXlpbnQ9MjUwIGtleWludF9taW49MjUgc2NlbmVjdXQ9NDAgaW50cmFfcmVmcmVzaD0wIHJjX2xvb2thaGVhZD00MCByYz1jcmYgbWJ0cmVlPTEgY3JmPTIzLjAgcWNvbXA9MC42MCBxcG1pbj0wIHFwbWF4PTY5IHFwc3RlcD00IGlwX3JhdGlvPTEuNDAgYXE9MToxLjAwAIAAAALrZYiEADf//vaH+BTZWBP+Wb/9DX/cj9uPrP1xYyEE31qvIejAGS+1H+b/rFFs6Z6UB/fgCJQAc24ZwpJw4v/ApLdW+BTLYTnGrzD8eNPwpbJHJ82I7SV6WKS9MQ7Rcfete4dw3t7V2rvg5d0Q9ChkNiFg9uAAstkjg0sS9uLKK01yY/A0eOMPojULmZ1PwY0yiKishUEqxAUDPmdHSmCR6fm/075wh81apbjbUFiHnGlBCeifm4T2DJnW7wIJkRzv7rQiwny+2JyBS78eaCp71YflZjgxkekVXhbklxdMXUFvVD8K300ng2oWDb8cCmdHu45ZvgsZ8RTG4BfFVFhXwPoSYdp8uedKK8an9++jltSLjMWBFWno1OKsKccHrGKZF2ScYD9fRK3d1H3mTBlupEZwbxRm8eTKUdbumotnItug2jHyHHbmkouN6At6MsqlVyjsqItllrzsmMyRBVGT5jJSVUEo3yUzp04C8cf3muUjtHBm74iK7UfavTtYffsP3DFbBNK5klhBIm6SbtN1Iv6GN/CajtDnkXIYx9AScgmAU2fPug8Z7BNYj/l2+7F/Cy7Y88TRb9+xmrM+Czg0nVppDgcSYzsbjG9ppnqsvG2RIXhuTu4aXViAEseqyAgiGPAHVm0IRRhHayoI0911ysZAPendSymRMFP8DNpE5ruYH29XsF4AaGHN16GOm33pzCsEeaHYUZjLOs6pF9y7YkU2jfmRNYBxbtDZgUAARGDJ5u162kokpppQuEZQvUM998bjR1a53/qg9RNaltwToqCS97DmQkUFuAw3gEo4sz9HUkK7qsK9TJS/g34jrza8lfanJZ2S8McpI1zxTUetgGN7vz3mgdOmTztlULVbook3MJQxR6dhMlaS2deM5KqAq1NgRNDVULGk+/nc+PIIYCqLnc0GTjnUY5p5C4L2OKnxQKhiXZZ9EZlZmzpjmTEPJ2c3us4+WffhP7QntG6Q79UAC6yYXFUQAAiJAAAAFUGaIWxDf/6nhAAjpnx5GUQJ3/RsLwAAABpBmkQ8IZMphDf//qeEADc0if6rgMfhmy3vWQAAABFBnmJqU8K/AC12PAhIx+41wAAAAA4BnoNqQr8ALXY9dP1NrwAAABlBmoVJqEFomUwIb//+p4QAN37B69mfBFg3AAAAG0GaqEnhClJlMCG//qeEAFR91P2q8tnwW1sMoQAAABJBnsZFNEwr/wBDenXd39IrkYEAAAAOAZ7nakK/AENlddx4HIwAAAAaQZrpSahBaJlMCHf//qmWABqvhR9diDcVD3AAAAAeQZsNSeEKUmUwIb/+p4QAId8dPtWD0WnGaprdEtMxAAAAEEGfK0U0TC//ABR6ASh9b3QAAAAPAZ9KdEK/ABukmp6s7+jAAAAAEAGfTGpCvwAbojtzrQwvWEEAAAASQZtRSahBaJlMCG///qeEAAEnAAAADEGfb0URLC//AACygQAAABABn450Qr8AGwsq7q/HeCOgAAAADwGfkGpCvwAR4JQa+7t5cAAAABpBm5JJqEFsmUwIb//+p4QAIKgCzbbPs+bWwQAAAB1Bm7ZJ4QpSZTAhv/6nhAAi3w58yyxMjvu1pcXBJAAAABBBn9RFNEwv/wAVCg2eeM3gAAAADwGf83RCvwAqHQDoTkvwwQAAABABn/VqQr8AHFZg8lzPkuKAAAAAHEGb+EmoQWiZTBTw3/6nhAA3Lq1TH+rdvsH65C0AAAAQAZ4XakK/AC12PLcNm1PagQAAABpBmhlJ4QpSZTAhv/6nhABWPRP9VwK1P81BwAAAABpBmj1J4Q6JlMCGf/6eEAHv9cutjhsKcZ3AgQAAABBBnltFETwv/wBNc/c4WUT4AAAADwGeenRCvwBFbQgMkuWpgQAAABABnnxqQr8AaZ24TcZ9em+lAAAAKEGaf0moQWiZTBTwz/6eEAS358nLzLK57x8yxLBfMsmwcFD84+h9fAMAAAAQAZ6eakK/APgzwLr+3D59IAAAABdBmoBJ4QpSZTAhn/6eEASxIVdE8yjm9QAAABhBmqFJ4Q6JlMCGf/6eEASX5zfbIY+sIXcAAAAZQZrCSeEPJlMCG//+p4QAx7q0ghE/y2z1gQAAABtBmuNJ4Q8mUwIb//6nhADI+ysCE/wnBboSOOAAAAAYQZsFSeEPJlMFETw3//6nhAB8vYP8u5eBAAAADwGfJGpCvwBprEDyYIubgQAAABFBmylJ4Q8mUwIb//6nhAABJwAAAAxBn0dFETwv/wAAsoEAAAAQAZ9mdEK/AKP0A6FjE4tNUAAAAA8Bn2hqQr8AaHOTdZ6s9YEAAAAZQZtqSahBaJlMCG///qeEAH99g9ezPgivBwAAABdBm41J4QpSZTAhv/6nhAB+08Bg/0a1TAAAABFBn6tFNEwr/wBpnVsEhK33XwAAAA4Bn8xqQr8AaZ18VwJNfQAAAB5Bm9FJqEFomUwIZ//+nhAB+zoSbzwX7v25fzhIn+EAAAAQQZ/vRREsL/8AT5jbcPaBsQAAABABng50Qr8AbB5N5Wyh6ShAAAAADwGeEGpCvwBFg0DyYIvpgAAAABpBmhJJqEFsmUwIb//+p4QAVr3U/UcaEhxNwQAAABlBmjNJ4QpSZTAhv/6nhAA3fsH+E4LdCWfAAAAAGEGaVknhDomUwIb//qeEACPfHTH+H1bcXwAAABJBnnRFETwr/wAdAGAQCmAcsmEAAAAOAZ6VakK/AB0K/SPc/S4AAAAcQZqYSahBaJlMFPDf/qeEACLfHT7VebVEZGQLBQAAABABnrdqQr8AHFCATrwBQCWBAAAAG0Gau0nhClJlMCG//qeEAA7nsH82l3NMFueNEAAAABFBntlFNEwr/wAMQzc1x73rIwAAAA4BnvpqQr8ADEEhnoiw0gAAABxBmv1JqEFomUwU8N/+p4QACXfHT7mRhbMUI55NAAAAEAGfHGpCvwAHmCA+A+v4IDEAAAARQZsBSeEKUmUwIb/+p4QAAScAAAAMQZ8/RTRML/8AALKAAAAAEAGfXnRCvwAEyVI78AH3UMEAAAAQAZ9AakK/AAds1Dn+ZbxgQAAAABlBm0JJqEFomUwIb//+p4QABf/YPXsz4IxNAAAAHUGbZEnhClJlMFESw3/+p4QABdfjT8kz0/sFwEhkAAAAEAGfg2pCvwAEtk+c6pmOUMEAAAAZQZuFSeEOiZTAh3/+qZYABEEWG6MQjn2h4QAAAB1Bm6lJ4Q8mUwId//6plgAGegs5QZoFPpVBj/2ODQAAACBBn8dFETwv/wAMHuiVuBTWZtjmWETs5lknthgF+wQGewAAAA8Bn+Z0Qr8AEF9KeB0ynJMAAAAQAZ/oakK/ABBZXRVZx+BVYAAAABxBm+1JqEFomUwIb//+p4QADO++z3bLvI3ajPDhAAAAEUGeC0URLC//AAeZNXCDXdicAAAADwGeKnRCvwAKhGEBkl0rgAAAABABnixqQr8ACsxtdvawyUYhAAAAH0GaMUmoQWyZTAhv//6nhAAIt8dPd5tBvgChmqa3NN8AAAARQZ5PRRUsL/8ABUGPG53SAD8AAAAPAZ5udEK/AAcVsDXXxlKAAAAAEAGecGpCvwAG6I7c60MMEcAAAAAaQZpySahBbJlMCG///qeEAAgqALNts+z59kEAAAAXQZqVSeEKUmUwIb/+p4QACGraQwf6N/4AAAASQZ6zRTRMK/8ACoYOu8xg7VtcAAAAEAGe1GpCvwAKzSjeaYq2zMEAAAAZQZrYSahBaJlMCG///qeEAAio+Y8jE/y4JwAAAA9BnvZFESwr/wAHFBXDn8EAAAANAZ8XakK/AAcWvxhU/wAAABlBmxlJqEFsmUwIb//+p4QACOj5jyMT/LgfAAAAGEGbPEnhClJlMCG//qeEAAko+Y8jE/y4FQAAAA9Bn1pFNEwr/wAHbBXDm8AAAAANAZ97akK/AAduvxhU3wAAABJBm2BJqEFomUwIZ//+nhAABH0AAAAMQZ+eRREsL/8AALKAAAAAEAGfvXRCvwAHmbA1vpY2l7gAAAAQAZ+/akK/AAdZYBvZ4+5VgQAAABpBm6FJqEFsmUwIb//+p4QACWj5jkncbMF4cAAAABlBm8JJ4QpSZTAhv/6nhAAJd8dPqONCQ9lBAAAAGUGb5UnhDomUwIb//qeEAAZF1aQQif5cVYAAAAAPQZ4DRRE8K/8ABR2tw71BAAAAEAGeJGpCvwAFHpRvgPA/O2kAAAAcQZonSahBaJlMFPDf/qeEAAm3x0za2s23jzeI+wAAABABnkZqQr8AB8OcNe80rRfBAAAAGUGaSEnhClJlMCHf/qmWAAdJMhJuHBR86JAAAAAZQZprSeEOiZTAhv/+p4QADo+wfzaXUniXswAAABJBnolFETwr/wAL8R251k+UDYEAAAAQAZ6qakK/AAujchh9ASDs2AAAABpBmq5JqEFomUwIb//+p4QACXfHT6jjQkPZQAAAAA9BnsxFESwr/wAHmB/zfuEAAAAPAZ7takK/AAT7lA8mCX+BAAAAF0Ga8kmoQWyZTAhv//6nhAAD5e+z7dzBAAAAFEGfEEUVLC//AAOg1zx6QFlyKELAAAAAEAGfL3RCvwAE+TWjJLf7V4AAAAAQAZ8xakK/AAT6x5bhs2tVgQAAAB1BmzRJqEFsmUwUTDf//qeEAAko+aprNua8dPtj+AAAABABn1NqQr8AB22fMbockHk4AAAAGUGbVUnhClJlMCG//qeEAA4hxn+q3zH4umEAAAAdQZt3SeEOiZTBTRMO//6plgAK3pZygzQKfRj9NI4AAAAQAZ+WakK/ABHXmiZE0rPRwQAAABFBm5tJ4Q8mUwIb//6nhAABJwAAAAxBn7lFETwv/wAAsoAAAAAPAZ/YdEK/ABElSOI7LsvTAAAADwGf2mpCvwARJUjdZ6s/PgAAABpBm95JqEFomUwIb//+p4QAIKgCzbbPs+bWwQAAAA9Bn/xFESwr/wAbAlrNY6EAAAAPAZ4dakK/ABugWNgcp1OAAAAAGkGaH0moQWyZTAhv//6nhAAzdIn+q3zH4j/AAAAAF0GaIknhClJlMCG//qeEADO+wf4VjmP9AAAAEUGeQEU0TCv/ACs0o3mm96lNAAAADgGeYWpCvwArLYx6Irm7AAAAGUGaZUmoQWiZTAhv//6nhAAg3x0x/h9W3HkAAAASQZ6DRREsK/8AGwI9EApgHLZhAAAAEAGepGpCvwAaZ24TcZ9eoaUAAAAaQZqmSahBbJlMCHf//qmWABAfo5pZ0dTybcEAAAAdQZrKSeEKUmUwIb/+p4QAMjdSsxgwz3sKw6ezmoEAAAAQQZ7oRTRML/8AHbTZDS6WvgAAAA8Bnwd0Qr8AGcSUQpgjYIAAAAAQAZ8JakK/ACj2EeTA9e55gQAAABpBmw1JqEFomUwIb//+p4QATVAFm22fZ81JwAAAABJBnytFESwr/wA+LO+hbkiq1IAAAAAOAZ9MakK/AD4s8Wteq1MAAAAcQZtPSahBbJlMFEw7//6plgAnP0c+aad6opL80QAAABABn25qQr8APiC851oYXlXBAAAAFkGbc0nhClJlMCG//qeEAC/+wf5eSoAAAAAOQZ+RRTRML/8AHFTnd3AAAAAQAZ+wdEK/ADzWKxefwOS5wQAAAA8Bn7JqQr8AJ1ZRus9We/MAAAAaQZu0SahBaJlMCHf//qmWABjPaX87pCmEXTAAAAASQZvYSeEKUmUwId/+qZYAAJWBAAAAEkGf9kU0TC//ABLfQNObbpZ62AAAABABnhV0Qr8AGcAQuA/KAAnhAAAAEAGeF2pCvwAZx2o5X9uIE8EAAAAcQZocSahBaJlMCG///qeEAC+urZif6u3up+1i+AAAABBBnjpFESwv/wAcVOo3sEw5AAAADwGeWXRCvwAaZ5N55xdAgAAAABABnltqQr8AJrtEJuM+vT6ZAAAAEkGaQEmoQWyZTAhv//6nhAABJwAAAAxBnn5FFSwv/wAAsoAAAAAPAZ6ddEK/ACZKkcR2XZYvAAAADwGen2pCvwAmSpG6z1Z7/wAAABlBmoFJqEFsmUwIb//+p4QAL/7B69mfBFhtAAAAGEGapEnhClJlMCG//qeEAC6+6nH+H1bcCwAAAA9BnsJFNEwr/wAlsm4bLMAAAAANAZ7jakK/ACXBpFvZZwAAABlBmuVJqEFomUwIb//+p4QALZ7qcf4fVtwTAAAAHkGbB0nhClJlMFESw3/+p4QALH7qftV5bPhRrdEs0wAAAA8BnyZqQr8AI7K3SjSHiycAAAAYQZsqSeEOiZTAhv/+p4QAG79g9ezPgiy3AAAAD0GfSEUVPCv/ABa2tw27QAAAAA0Bn2lqQr8AFr5SLe3bAAAAGkGba0moQWiZTAh3//6plgAVL5BmgD0l9hUwAAAAH0Gbj0nhClJlMCG//qeEACo/Gn47b0tKtUyEfx+9kZwAAAAVQZ+tRTRML/8AGSD0RBzFJH7tYjtTAAAAEAGfzHRCvwAhrq0ZJb/XV4EAAAAQAZ/OakK/ABa7CPJcz5MMgQAAABxBm9FJqEFomUwU8N/+p4QAG79g/zlOvCjW5kI4AAAAEAGf8GpCvwAWtr5zrQwvasAAAAAeQZv1SeEKUmUwIZ/+nhAAQ74h/jTe1F8Cm0t2s4pRAAAAEEGeE0U0TC//AAqFAitKL7gAAAAPAZ4ydEK/AA4pfi4D8yFAAAAAEAGeNGpCvwAOgahzfD+JOzEAAAAaQZo2SahBaJlMCG///qeEAAuvup+o40JDx8AAAAAYQZpXSeEKUmUwIb/+p4QAB3PYPXsz4Iv/AAAAGUGaeEnhDomUwId//qmWAAW35BmgD0l9mTEAAAAbQZqcSeEPJlMCG//+p4QAENHzVNZtzXjp9rsIAAAAEEGeukURPC//AAo7LFQgv+EAAAAQAZ7ZdEK/AA4tisWxsqU70AAAAA8BnttqQr8ADdWLAuv8LmEAAAAZQZrfSahBaJlMCG///qeEABFR8x5GJ/lu5wAAABJBnv1FESwr/wAVnB13mMHasbwAAAAPAZ8eakK/ABWW5DEaVI3gAAAAGUGbAEmoQWyZTAhv//6nhAAR0fMeRif5bt8AAAAbQZskSeEKUmUwIb/+p4QAEe+On3Wlmam3RbpYAAAAEEGfQkU0TC//AArLLFQgveEAAAAQAZ9hdEK/AA7bYGtplD12QAAAABEBn2NqQr8ACfcKlV0+hvwzOQAAAB9Bm2hJqEFomUwIX//+jLAAMUtX1N+7f+9IyXcjfoJBAAAAFUGfhkURLC//AAdtPV6xpTj6ZydqBQAAABABn6V0Qr8ACfMHYrcgNKSxAAAAEAGfp2pCvwAKPY8tw2bVsIAAAAAaQZupS6hCEFskRggoB/IB/YeAIV/+OEAAEXAAAAu4bW9vdgAAAGxtdmhkAAAAAAAAAAAAAAAAAAAD6AAAH5AAAQAAAQAAAAAAAAAAAAAAAAEAAAAAAAAAAAAAAAAAAAABAAAAAAAAAAAAAAAAAABAAAAAAAAAAAAAAAAAAAAAAAAAAAAAAAAAAAAAAAAAAgAACuJ0cmFrAAAAXHRraGQAAAADAAAAAAAAAAAAAAABAAAAAAAAH5AAAAAAAAAAAAAAAAAAAAAAAAEAAAAAAAAAAAAAAAAAAAABAAAAAAAAAAAAAAAAAABAAAAAARAAAAEQAAAAAAAkZWR0cwAAABxlbHN0AAAAAAAAAAEAAB+QAAAEAAABAAAAAApabWRpYQAAACBtZGhkAAAAAAAAAAAAAAAAAAAyAAABlABVxAAAAAAALWhkbHIAAAAAAAAAAHZpZGUAAAAAAAAAAAAAAABWaWRlb0hhbmRsZXIAAAAKBW1pbmYAAAAUdm1oZAAAAAEAAAAAAAAAAAAAACRkaW5mAAAAHGRyZWYAAAAAAAAAAQAAAAx1cmwgAAAAAQAACcVzdGJsAAAAlXN0c2QAAAAAAAAAAQAAAIVhdmMxAAAAAAAAAAEAAAAAAAAAAAAAAAAAAAAAARABEABIAAAASAAAAAAAAAABAAAAAAAAAAAAAAAAAAAAAAAAAAAAAAAAAAAAAAAAAAAAGP//AAAAL2F2Y0MB9AAN/+EAF2f0AA2RmygiEdCAAAADAIAAABkHihTLAQAFaOvjxEgAAAAYc3R0cwAAAAAAAAABAAAAygAAAgAAAAAUc3RzcwAAAAAAAAABAAAAAQAABZBjdHRzAAAAAAAAALAAAAACAAAEAAAAAAEAAAgAAAAAAgAAAgAAAAABAAAEAAAAAAEAAAgAAAAAAgAAAgAAAAABAAAEAAAAAAEAAAoAAAAAAQAABAAAAAABAAAAAAAAAAEAAAIAAAAAAQAACgAAAAABAAAEAAAAAAEAAAAAAAAAAQAAAgAAAAABAAAEAAAAAAEAAAoAAAAAAQAABAAAAAABAAAAAAAAAAEAAAIAAAAAAQAABgAAAAABAAACAAAAAAEAAAQAAAAAAQAACgAAAAABAAAEAAAAAAEAAAAAAAAAAQAAAgAAAAABAAAGAAAAAAEAAAIAAAAABAAABAAAAAABAAAGAAAAAAEAAAIAAAAAAQAACgAAAAABAAAEAAAAAAEAAAAAAAAAAQAAAgAAAAABAAAEAAAAAAEAAAgAAAAAAgAAAgAAAAABAAAKAAAAAAEAAAQAAAAAAQAAAAAAAAABAAACAAAAAAIAAAQAAAAAAQAACAAAAAACAAACAAAAAAEAAAYAAAAAAQAAAgAAAAABAAAIAAAAAAIAAAIAAAAAAQAABgAAAAABAAACAAAAAAEAAAoAAAAAAQAABAAAAAABAAAAAAAAAAEAAAIAAAAAAQAABAAAAAABAAAGAAAAAAEAAAIAAAAAAQAABAAAAAABAAAKAAAAAAEAAAQAAAAAAQAAAAAAAAABAAACAAAAAAEAAAoAAAAAAQAABAAAAAABAAAAAAAAAAEAAAIAAAAAAQAACgAAAAABAAAEAAAAAAEAAAAAAAAAAQAAAgAAAAABAAAEAAAAAAEAAAgAAAAAAgAAAgAAAAABAAAIAAAAAAIAAAIAAAAAAQAABAAAAAABAAAIAAAAAAIAAAIAAAAAAQAACgAAAAABAAAEAAAAAAEAAAAAAAAAAQAAAgAAAAACAAAEAAAAAAEAAAgAAAAAAgAAAgAAAAABAAAGAAAAAAEAAAIAAAAAAQAABAAAAAABAAAIAAAAAAIAAAIAAAAAAQAACAAAAAACAAACAAAAAAEAAAoAAAAAAQAABAAAAAABAAAAAAAAAAEAAAIAAAAAAQAABgAAAAABAAACAAAAAAEAAAQAAAAAAQAABgAAAAABAAACAAAAAAEAAAoAAAAAAQAABAAAAAABAAAAAAAAAAEAAAIAAAAAAQAACAAAAAACAAACAAAAAAEAAAQAAAAAAQAACAAAAAACAAACAAAAAAEAAAgAAAAAAgAAAgAAAAABAAAEAAAAAAEAAAoAAAAAAQAABAAAAAABAAAAAAAAAAEAAAIAAAAAAQAACAAAAAACAAACAAAAAAEAAAYAAAAAAQAAAgAAAAABAAAKAAAAAAEAAAQAAAAAAQAAAAAAAAABAAACAAAAAAEAAAQAAAAAAQAACgAAAAABAAAEAAAAAAEAAAAAAAAAAQAAAgAAAAABAAAKAAAAAAEAAAQAAAAAAQAAAAAAAAABAAACAAAAAAEAAAoAAAAAAQAABAAAAAABAAAAAAAAAAEAAAIAAAAAAQAABAAAAAABAAAIAAAAAAIAAAIAAAAAAQAABAAAAAABAAAGAAAAAAEAAAIAAAAAAQAACAAAAAACAAACAAAAAAEAAAQAAAAAAQAACgAAAAABAAAEAAAAAAEAAAAAAAAAAQAAAgAAAAABAAAGAAAAAAEAAAIAAAAAAQAACgAAAAABAAAEAAAAAAEAAAAAAAAAAQAAAgAAAAADAAAEAAAAAAEAAAoAAAAAAQAABAAAAAABAAAAAAAAAAEAAAIAAAAAAQAACAAAAAACAAACAAAAAAEAAAQAAAAAAQAACgAAAAABAAAEAAAAAAEAAAAAAAAAAQAAAgAAAAABAAAKAAAAAAEAAAQAAAAAAQAAAAAAAAABAAACAAAAAAEAAAQAAAAAHHN0c2MAAAAAAAAAAQAAAAEAAADKAAAAAQAAAzxzdHN6AAAAAAAAAAAAAADKAAAFoAAAABkAAAAeAAAAFQAAABIAAAAdAAAAHwAAABYAAAASAAAAHgAAACIAAAAUAAAAEwAAABQAAAAWAAAAEAAAABQAAAATAAAAHgAAACEAAAAUAAAAEwAAABQAAAAgAAAAFAAAAB4AAAAeAAAAFAAAABMAAAAUAAAALAAAABQAAAAbAAAAHAAAAB0AAAAfAAAAHAAAABMAAAAVAAAAEAAAABQAAAATAAAAHQAAABsAAAAVAAAAEgAAACIAAAAUAAAAFAAAABMAAAAeAAAAHQAAABwAAAAWAAAAEgAAACAAAAAUAAAAHwAAABUAAAASAAAAIAAAABQAAAAVAAAAEAAAABQAAAAUAAAAHQAAACEAAAAUAAAAHQAAACEAAAAkAAAAEwAAABQAAAAgAAAAFQAAABMAAAAUAAAAIwAAABUAAAATAAAAFAAAAB4AAAAbAAAAFgAAABQAAAAdAAAAEwAAABEAAAAdAAAAHAAAABMAAAARAAAAFgAAABAAAAAUAAAAFAAAAB4AAAAdAAAAHQAAABMAAAAUAAAAIAAAABQAAAAdAAAAHQAAABYAAAAUAAAAHgAAABMAAAATAAAAGwAAABgAAAAUAAAAFAAAACEAAAAUAAAAHQAAACEAAAAUAAAAFQAAABAAAAATAAAAEwAAAB4AAAATAAAAEwAAAB4AAAAbAAAAFQAAABIAAAAdAAAAFgAAABQAAAAeAAAAIQAAABQAAAATAAAAFAAAAB4AAAAWAAAAEgAAACAAAAAUAAAAGgAAABIAAAAUAAAAEwAAAB4AAAAWAAAAFgAAABQAAAAUAAAAIAAAABQAAAATAAAAFAAAABYAAAAQAAAAEwAAABMAAAAdAAAAHAAAABMAAAARAAAAHQAAACIAAAATAAAAHAAAABMAAAARAAAAHgAAACMAAAAZAAAAFAAAABQAAAAgAAAAFAAAACIAAAAUAAAAEwAAABQAAAAeAAAAHAAAAB0AAAAfAAAAFAAAABQAAAATAAAAHQAAABYAAAATAAAAHQAAAB8AAAAUAAAAFAAAABUAAAAjAAAAGQAAABQAAAAUAAAAHgAAABRzdGNvAAAAAAAAAAEAAAAwAAAAYnVkdGEAAABabWV0YQAAAAAAAAAhaGRscgAAAAAAAAAAbWRpcmFwcGwAAAAAAAAAAAAAAAAtaWxzdAAAACWpdG9vAAAAHWRhdGEAAAABAAAAAExhdmY1OC4yNi4xMDE=\" type=\"video/mp4\" />\n",
       "             </video>"
      ],
      "text/plain": [
       "<IPython.core.display.HTML object>"
      ]
     },
     "execution_count": 8,
     "metadata": {},
     "output_type": "execute_result"
    }
   ],
   "source": [
    "# Initialize the game\n",
    "env = Environment(grid_size=size, max_time=T,temperature=temperature)\n",
    "\n",
    "# Initialize the agent!\n",
    "agent = RandomAgent()\n",
    "\n",
    "test(agent,env,epochs_test,prefix='random')\n",
    "HTML(display_videos('random0.mp4'))"
   ]
  },
  {
   "cell_type": "markdown",
   "metadata": {},
   "source": [
    "***\n",
    "## DQN"
   ]
  },
  {
   "cell_type": "markdown",
   "metadata": {},
   "source": [
    "Let us assume here that $T=\\infty$.\n",
    "\n",
    "***\n",
    "__Question 5__ Let $\\pi$ be a policy, show that:\n",
    "\n",
    "\\begin{equation*}\n",
    "Q^{\\pi}(s,a)=E_{(s',a')\\sim p(.|s,a)}[r(s,a)+\\gamma Q^{\\pi}(s',a')]\n",
    "\\end{equation*}\n",
    "\n",
    "Then, show that for the optimal policy $\\pi^*$ (we assume its existence), the following holds: \n",
    "\n",
    "\\begin{equation*}\n",
    "Q^{*}(s,a)=E_{s'\\sim \\pi^*(.|s,a)}[r(s,a)+\\gamma\\max_{a'}Q^{*}(s',a')].\n",
    "\\end{equation*}\n",
    "Finally, deduce that a plausible objective is:\n",
    "\n",
    "\\begin{equation*}\n",
    "\\mathcal{L}(\\theta)=E_{s' \\sim \\pi^*(.|s,a)}\\Vert r+\\gamma\\max\\max_{a'}Q(s',a',\\theta)-Q(s,a,\\theta)\\Vert^{2}.\n",
    "\\end{equation*}\n",
    "\n",
    "\n"
   ]
  },
  {
   "cell_type": "markdown",
   "metadata": {},
   "source": [
    "\\begin{align*}\n",
    "Q^{\\pi}(s,a) &= E_{(s',a') \\sim p(.|s,a)}[r(s,a) +\\gamma Q^{\\pi}(s', a')]\\\\\n",
    "&= E_{p^{\\pi}}[r(s,a) + \\displaystyle\\sum_{t \\geq 1} \\gamma^{t}r(s_{t},a_{t})|s_{0} =s, a_{0}=a]\\\\\n",
    "&=r(s,a) + E_{p^{\\pi}}[\\gamma E_{(s',a') \\sim p(.|(s,a))}[\\displaystyle\\sum_{t \\geq 1} \\gamma^{t-1}r(s_{t},a_{t})|s_{0} =s, a_{0}=a]]\\\\\n",
    "&= r(s,a) + \\gamma E_{(s',a') \\sim p(.|(s,a))}[E_{p^{\\pi}}[\\displaystyle\\sum_{t \\geq 1} \\gamma^{t}r(s_{t},a_{t})|s_{0} =s', a_{0}=a']]\\\\\n",
    "&=E_{(s',a') \\sim p(.|(s,a))}[r(s,a) + \\gamma Q^{\\pi}(s', a')]\n",
    "\\end{align*}\n",
    "Therefore, we have :\n",
    "$Q^{*}(s,a) = E_{(s',a') \\sim p(.|(s,a))}[r(s,a) + \\gamma Q^{*}(s', a')]$\n",
    "$\\pi^{*}$ is a greedy policy. If $a^{*}$ is the action dicted by the greedy policy. \n",
    "We have $\\forall a'$, $ Q^{*}(a^{*},s')=Q^{\\pi^{*}}(a^{*},s') \\geq Q^{*}(a',s' )$ and therefore :\n",
    "\\begin{equation*}\n",
    "Q^{*}(s,a)=E_{s'\\sim \\pi^*(.|s,a)}[r(s,a)+\\gamma\\max_{a'}Q^{*}(s',a')]\n",
    "\\end{equation*}\n",
    "We expect the optimal agent to follow this equation. It makes sense to train our model to follow it as well"
   ]
  },
  {
   "cell_type": "markdown",
   "metadata": {},
   "source": [
    "***\n",
    "The DQN-learning algorithm relies on these derivations to train the parameters $\\theta$ of a Deep Neural Network:\n",
    "\n",
    "1. At the state $s_t$, select the action $a_t$ with best reward using $Q_t$ and store the results;\n",
    "\n",
    "2. Obtain the new state $s_{t+1}$ from the environment $p$;\n",
    "\n",
    "3. Store $(s_t,a_t,s_{t+1})$;\n",
    "\n",
    "4. Obtain $Q_{t+1}$ by minimizing  $\\mathcal{L}$ from a recovered batch from the previously stored results.\n",
    "\n",
    "***\n",
    "__Question 6__ Implement the class ```Memory``` that stores moves (in a replay buffer) via ```remember``` and provides a ```random_access``` to these. Specify a maximum memory size to avoid side effects. You can for example use a ```list()``` and set by default ```max_memory=100```."
   ]
  },
  {
   "cell_type": "code",
   "execution_count": 9,
   "metadata": {},
   "outputs": [],
   "source": [
    "import random \n",
    "class Memory(object):\n",
    "    def __init__(self, max_memory=100):\n",
    "        self.max_memory = max_memory\n",
    "        self.memory = list()\n",
    "\n",
    "    def remember(self, m):\n",
    "        if len(self.memory) < self.max_memory :\n",
    "            self.memory.append(m)\n",
    "        else :\n",
    "            disp = self.memory.pop(0)\n",
    "            self.memory.append(m)\n",
    "\n",
    "    def random_access(self):\n",
    "        return random.choice(self.memory)"
   ]
  },
  {
   "cell_type": "markdown",
   "metadata": {},
   "source": [
    "***\n",
    "The pipeline we will use for training is given below:"
   ]
  },
  {
   "cell_type": "code",
   "execution_count": 10,
   "metadata": {},
   "outputs": [],
   "source": [
    "def train(agent,env,epoch,prefix=''):\n",
    "    # Number of won games\n",
    "    score = 0\n",
    "    loss = 0\n",
    "\n",
    "    for e in range(epoch):\n",
    "        # At each epoch, we restart to a fresh game and get the initial state\n",
    "        state = env.reset()\n",
    "        # This assumes that the games will terminate\n",
    "        game_over = False\n",
    "\n",
    "        win = 0\n",
    "        lose = 0\n",
    "\n",
    "        while not game_over:\n",
    "            # The agent performs an action\n",
    "            action = agent.act(state)\n",
    "\n",
    "            # Apply an action to the environment, get the next state, the reward\n",
    "            # and if the games end\n",
    "            prev_state = state\n",
    "            state, reward, game_over = env.act(action)\n",
    "\n",
    "            # Update the counters\n",
    "            if reward > 0:\n",
    "                win = win + reward\n",
    "            if reward < 0:\n",
    "                lose = lose -reward\n",
    "\n",
    "            # Apply the reinforcement strategy\n",
    "            loss = agent.reinforce(prev_state, state,  action, reward, game_over)\n",
    "\n",
    "        # Save as a mp4\n",
    "        if e % 10 == 0:\n",
    "            env.draw(prefix+str(e))\n",
    "\n",
    "        # Update stats\n",
    "        score += win-lose\n",
    "\n",
    "        print(\"Epoch {:03d}/{:03d} | Loss {:.4f} | Win/lose count {}/{} ({})\"\n",
    "              .format(e, epoch, loss, win, lose, win-lose))\n",
    "        agent.save(name_weights=prefix+'model.h5',name_model=prefix+'model.json')"
   ]
  },
  {
   "cell_type": "markdown",
   "metadata": {},
   "source": [
    "***\n",
    "__Question 7__ Implement the DQN training algorithm using a cascade of fully connected layers. You can use different learning rate, batch size or memory size parameters. In particular, the loss might oscillate while the player will start to win the games. You have to find a good criterium."
   ]
  },
  {
   "cell_type": "code",
   "execution_count": 29,
   "metadata": {},
   "outputs": [],
   "source": [
    "class DQN(Agent):\n",
    "    def __init__(self, grid_size,  epsilon = 0.1, memory_size=100, batch_size = 16,n_state=2):\n",
    "        super(DQN, self).__init__(epsilon = epsilon)\n",
    "\n",
    "        # Discount for Q learning\n",
    "        self.discount = 0.99\n",
    "        \n",
    "        self.grid_size = grid_size\n",
    "        \n",
    "        # number of state\n",
    "        self.n_state = n_state\n",
    "\n",
    "        # Memory\n",
    "        self.memory = Memory(memory_size)\n",
    "        \n",
    "        # Batch size when learning\n",
    "        self.batch_size = batch_size\n",
    "\n",
    "    def learned_act(self, s):\n",
    "        sample = np.zeros((1, 5, 5, self.n_state))\n",
    "        sample[0, :, :, :] = s\n",
    "        return np.argmax(self.model.predict(sample)[0])\n",
    "\n",
    "    def reinforce(self, s_, n_s_, a_, r_, game_over_):\n",
    "        # Two steps: first memorize the states, second learn from the pool\n",
    "\n",
    "        self.memory.remember([s_, n_s_, a_, r_, game_over_])\n",
    "        \n",
    "        input_states = np.zeros((self.batch_size, 5,5,self.n_state))\n",
    "        states_n = input_states.copy()\n",
    "        target_q = np.zeros((self.batch_size, 4))\n",
    "        actions = np.zeros(self.batch_size).astype(int)\n",
    "        rewards = np.zeros(self.batch_size)\n",
    "        for i in range(self.batch_size):\n",
    "            s, n_s, a, r, game_over = self.memory.random_access()\n",
    "            input_states[i, :, :, :] = s\n",
    "            states_n[i, :, :, :] = n_s\n",
    "            actions[i] = a\n",
    "            rewards[i] = r\n",
    "            if game_over_:\n",
    "                Mat = 0\n",
    "            else:\n",
    "                Mat = 1\n",
    "        target_q = self.model.predict(input_states)\n",
    "        q_star = np.max(self.model.predict(states_n), axis=1)\n",
    "        target_q[:, actions] = rewards +  self.discount *q_star\n",
    "        # HINT: Clip the target to avoid exploiding gradients.. -- clipping is a bit tighter\n",
    "        target_q = np.clip(target_q, -3, 3)\n",
    "        l = self.model.train_on_batch(input_states, target_q)\n",
    "        return l\n",
    "\n",
    "    def save(self,name_weights='model.h5',name_model='model.json'):\n",
    "        self.model.save_weights(name_weights, overwrite=True)\n",
    "        with open(name_model, \"w\") as outfile:\n",
    "            json.dump(self.model.to_json(), outfile)\n",
    "            \n",
    "    def load(self,name_weights='model.h5',name_model='model.json'):\n",
    "        with open(name_model, \"r\") as jfile:\n",
    "            model = model_from_json(json.load(jfile))\n",
    "        model.load_weights(name_weights)\n",
    "        model.compile(\"sgd\", \"mse\")\n",
    "        self.model = model\n",
    "\n",
    "            \n",
    "class DQN_FC(DQN):\n",
    "    def __init__(self, *args, lr=0.1,**kwargs):\n",
    "        super(DQN_FC, self).__init__( *args,**kwargs)\n",
    "        \n",
    "        # NN Model\n",
    "        \n",
    "        model = Sequential()\n",
    "        model.add(Flatten())\n",
    "        model.add(Dense(self.n_action))\n",
    "        \n",
    "        model.compile(sgd(lr=lr, decay=1e-4, momentum=0.0), \"mse\")\n",
    "        self.model = model\n",
    "        "
   ]
  },
  {
   "cell_type": "markdown",
   "metadata": {},
   "source": [
    "***\n",
    "***\n",
    "__Question 8__ Implement the DQN training algorithm using a CNN (for example, 2 convolutional layers and one final fully connected layer)."
   ]
  },
  {
   "cell_type": "code",
   "execution_count": 38,
   "metadata": {},
   "outputs": [
    {
     "name": "stdout",
     "output_type": "stream",
     "text": [
      "Epoch 000/051 | Loss 0.0964 | Win/lose count 6.5/5.0 (1.5)\n",
      "Epoch 001/051 | Loss 0.0540 | Win/lose count 5.5/5.0 (0.5)\n",
      "Epoch 002/051 | Loss 0.0184 | Win/lose count 5.0/4.0 (1.0)\n",
      "Epoch 003/051 | Loss 0.0182 | Win/lose count 5.5/11.0 (-5.5)\n",
      "Epoch 004/051 | Loss 0.0229 | Win/lose count 4.0/3.0 (1.0)\n",
      "Epoch 005/051 | Loss 0.0057 | Win/lose count 3.5/7.0 (-3.5)\n",
      "Epoch 006/051 | Loss 0.0061 | Win/lose count 3.5/2.0 (1.5)\n",
      "Epoch 007/051 | Loss 0.0087 | Win/lose count 8.0/19.0 (-11.0)\n",
      "Epoch 008/051 | Loss 0.0064 | Win/lose count 5.0/9.0 (-4.0)\n",
      "Epoch 009/051 | Loss 0.0039 | Win/lose count 7.0/15.0 (-8.0)\n",
      "Epoch 010/051 | Loss 0.0021 | Win/lose count 9.0/12.0 (-3.0)\n",
      "Epoch 011/051 | Loss 0.0019 | Win/lose count 3.5/3.0 (0.5)\n",
      "Epoch 012/051 | Loss 0.0288 | Win/lose count 12.0/9.0 (3.0)\n",
      "Epoch 013/051 | Loss 0.0090 | Win/lose count 6.5/12.0 (-5.5)\n",
      "Epoch 014/051 | Loss 0.0042 | Win/lose count 14.0/13.0 (1.0)\n",
      "Epoch 015/051 | Loss 0.0259 | Win/lose count 9.0/10.0 (-1.0)\n",
      "Epoch 016/051 | Loss 0.0228 | Win/lose count 7.0/7.0 (0.0)\n",
      "Epoch 017/051 | Loss 0.0197 | Win/lose count 6.5/5.0 (1.5)\n",
      "Epoch 018/051 | Loss 0.0059 | Win/lose count 6.5/5.0 (1.5)\n",
      "Epoch 019/051 | Loss 0.0127 | Win/lose count 8.0/7.0 (1.0)\n",
      "Epoch 020/051 | Loss 0.0119 | Win/lose count 4.5/8.0 (-3.5)\n",
      "Epoch 021/051 | Loss 0.2005 | Win/lose count 6.0/7.0 (-1.0)\n",
      "Epoch 022/051 | Loss 0.0121 | Win/lose count 5.5/3.0 (2.5)\n",
      "Epoch 023/051 | Loss 0.0066 | Win/lose count 6.5/11.0 (-4.5)\n",
      "Epoch 024/051 | Loss 0.0116 | Win/lose count 5.5/15.0 (-9.5)\n",
      "Epoch 025/051 | Loss 0.0159 | Win/lose count 8.5/10.0 (-1.5)\n",
      "Epoch 026/051 | Loss 0.0041 | Win/lose count 6.5/9.0 (-2.5)\n",
      "Epoch 027/051 | Loss 0.0408 | Win/lose count 2.0/4.0 (-2.0)\n",
      "Epoch 028/051 | Loss 0.0149 | Win/lose count 3.5/6.0 (-2.5)\n",
      "Epoch 029/051 | Loss 0.0088 | Win/lose count 9.5/10.0 (-0.5)\n",
      "Epoch 030/051 | Loss 0.0058 | Win/lose count 12.0/7.0 (5.0)\n",
      "Epoch 031/051 | Loss 0.0153 | Win/lose count 11.5/11.0 (0.5)\n",
      "Epoch 032/051 | Loss 0.0173 | Win/lose count 13.0/10.0 (3.0)\n",
      "Epoch 033/051 | Loss 0.2680 | Win/lose count 11.0/13.0 (-2.0)\n",
      "Epoch 034/051 | Loss 0.0572 | Win/lose count 10.5/14.0 (-3.5)\n",
      "Epoch 035/051 | Loss 0.0184 | Win/lose count 8.0/11.0 (-3.0)\n",
      "Epoch 036/051 | Loss 0.0288 | Win/lose count 12.5/14.0 (-1.5)\n",
      "Epoch 037/051 | Loss 0.0237 | Win/lose count 9.5/10.0 (-0.5)\n",
      "Epoch 038/051 | Loss 0.0050 | Win/lose count 12.0/6.0 (6.0)\n",
      "Epoch 039/051 | Loss 0.0051 | Win/lose count 11.0/10.0 (1.0)\n",
      "Epoch 040/051 | Loss 0.0334 | Win/lose count 7.0/11.0 (-4.0)\n",
      "Epoch 041/051 | Loss 0.0067 | Win/lose count 9.5/12.0 (-2.5)\n",
      "Epoch 042/051 | Loss 0.0041 | Win/lose count 9.5/11.0 (-1.5)\n",
      "Epoch 043/051 | Loss 0.0151 | Win/lose count 12.5/8.0 (4.5)\n",
      "Epoch 044/051 | Loss 0.2531 | Win/lose count 5.5/14.0 (-8.5)\n",
      "Epoch 045/051 | Loss 0.0032 | Win/lose count 11.5/15.0 (-3.5)\n",
      "Epoch 046/051 | Loss 0.0033 | Win/lose count 8.5/11.0 (-2.5)\n",
      "Epoch 047/051 | Loss 0.2638 | Win/lose count 12.5/3.0 (9.5)\n",
      "Epoch 048/051 | Loss 0.0216 | Win/lose count 8.5/7.0 (1.5)\n",
      "Epoch 049/051 | Loss 0.2710 | Win/lose count 9.5/8.0 (1.5)\n",
      "Epoch 050/051 | Loss 0.0283 | Win/lose count 12.0/17.0 (-5.0)\n",
      "_________________________________________________________________\n",
      "Layer (type)                 Output Shape              Param #   \n",
      "=================================================================\n",
      "flatten_19 (Flatten)         (None, 50)                0         \n",
      "_________________________________________________________________\n",
      "dense_19 (Dense)             (None, 4)                 204       \n",
      "=================================================================\n",
      "Total params: 204\n",
      "Trainable params: 204\n",
      "Non-trainable params: 0\n",
      "_________________________________________________________________\n",
      "None\n"
     ]
    },
    {
     "data": {
      "text/html": [
       "<video alt=\"test\" controls>\n",
       "                <source src=\"data:video/mp4;base64,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\" type=\"video/mp4\" />\n",
       "             </video>"
      ],
      "text/plain": [
       "<IPython.core.display.HTML object>"
      ]
     },
     "execution_count": 38,
     "metadata": {},
     "output_type": "execute_result"
    }
   ],
   "source": [
    "env = Environment(grid_size=size, max_time=T, temperature=0.3)\n",
    "agent = DQN_FC(size, lr=.1, epsilon = 0.1, memory_size=2000, batch_size = 32)\n",
    "\n",
    "train(agent, env, 51, prefix='fc_train')\n",
    "print(agent.model.summary())\n",
    "HTML(display_videos('fc_train10.mp4'))"
   ]
  },
  {
   "cell_type": "code",
   "execution_count": 36,
   "metadata": {},
   "outputs": [],
   "source": [
    "class DQN_CNN(DQN):\n",
    "    def __init__(self, *args,lr=0.1,**kwargs):\n",
    "        super(DQN_CNN, self).__init__(*args,**kwargs)\n",
    "        \n",
    "        model = Sequential()\n",
    "        \n",
    "        model.add(Conv2D(64, (2, 2), strides=1, input_shape=(5, 5, self.n_state),  padding=\"valid\"))\n",
    "        model.add(Activation('relu'))\n",
    "        model.add(Conv2D(16, (2, 2), strides=1, input_shape=(5, 5, self.n_state),  padding=\"valid\"))\n",
    "        model.add(Activation('relu'))\n",
    "        model.add(Flatten())\n",
    "        model.add(Dense(self.n_action))\n",
    "        \n",
    "        model.compile(sgd(lr=lr, decay=1e-4, momentum=0.0), \"mse\")\n",
    "        self.model = model"
   ]
  },
  {
   "cell_type": "code",
   "execution_count": 39,
   "metadata": {},
   "outputs": [
    {
     "name": "stdout",
     "output_type": "stream",
     "text": [
      "Epoch 000/051 | Loss 0.0112 | Win/lose count 9.0/7.0 (2.0)\n",
      "Epoch 001/051 | Loss 0.0023 | Win/lose count 2.0/3.0 (-1.0)\n",
      "Epoch 002/051 | Loss 0.0012 | Win/lose count 7.0/4.0 (3.0)\n",
      "Epoch 003/051 | Loss 0.0015 | Win/lose count 13.0/17.0 (-4.0)\n",
      "Epoch 004/051 | Loss 0.0246 | Win/lose count 8.5/10.0 (-1.5)\n",
      "Epoch 005/051 | Loss 0.0315 | Win/lose count 4.0/5.0 (-1.0)\n",
      "Epoch 006/051 | Loss 0.0135 | Win/lose count 5.0/9.0 (-4.0)\n",
      "Epoch 007/051 | Loss 0.0091 | Win/lose count 7.5/17.0 (-9.5)\n",
      "Epoch 008/051 | Loss 0.0014 | Win/lose count 9.0/9.0 (0.0)\n",
      "Epoch 009/051 | Loss 0.0222 | Win/lose count 7.5/13.0 (-5.5)\n",
      "Epoch 010/051 | Loss 0.0254 | Win/lose count 14.5/14.0 (0.5)\n",
      "Epoch 011/051 | Loss 0.2277 | Win/lose count 14.0/13.0 (1.0)\n",
      "Epoch 012/051 | Loss 0.0005 | Win/lose count 12.5/20.0 (-7.5)\n",
      "Epoch 013/051 | Loss 0.0296 | Win/lose count 15.5/21.0 (-5.5)\n",
      "Epoch 014/051 | Loss 0.0703 | Win/lose count 7.0/20.0 (-13.0)\n",
      "Epoch 015/051 | Loss 0.1823 | Win/lose count 13.0/10.0 (3.0)\n",
      "Epoch 016/051 | Loss 0.0297 | Win/lose count 14.0/21.0 (-7.0)\n",
      "Epoch 017/051 | Loss 0.0732 | Win/lose count 11.0/18.0 (-7.0)\n",
      "Epoch 018/051 | Loss 0.1877 | Win/lose count 11.0/11.0 (0.0)\n",
      "Epoch 019/051 | Loss 0.2307 | Win/lose count 12.0/15.0 (-3.0)\n",
      "Epoch 020/051 | Loss 0.0693 | Win/lose count 15.0/18.0 (-3.0)\n",
      "Epoch 021/051 | Loss 0.2494 | Win/lose count 6.5/6.0 (0.5)\n",
      "Epoch 022/051 | Loss 0.0033 | Win/lose count 8.0/14.0 (-6.0)\n",
      "Epoch 023/051 | Loss 0.0577 | Win/lose count 9.5/9.0 (0.5)\n",
      "Epoch 024/051 | Loss 0.0221 | Win/lose count 9.5/18.0 (-8.5)\n",
      "Epoch 025/051 | Loss 0.0134 | Win/lose count 4.5/5.0 (-0.5)\n",
      "Epoch 026/051 | Loss 0.0049 | Win/lose count 12.0/19.0 (-7.0)\n",
      "Epoch 027/051 | Loss 0.2970 | Win/lose count 7.5/21.0 (-13.5)\n",
      "Epoch 028/051 | Loss 0.0193 | Win/lose count 10.5/22.0 (-11.5)\n",
      "Epoch 029/051 | Loss 0.2562 | Win/lose count 11.0/20.0 (-9.0)\n",
      "Epoch 030/051 | Loss 0.0061 | Win/lose count 8.0/8.0 (0.0)\n",
      "Epoch 031/051 | Loss 0.0577 | Win/lose count 14.0/11.0 (3.0)\n",
      "Epoch 032/051 | Loss 0.0004 | Win/lose count 7.5/20.0 (-12.5)\n",
      "Epoch 033/051 | Loss 0.0015 | Win/lose count 8.5/6.0 (2.5)\n",
      "Epoch 034/051 | Loss 0.0049 | Win/lose count 11.5/12.0 (-0.5)\n",
      "Epoch 035/051 | Loss 0.2126 | Win/lose count 5.5/6.0 (-0.5)\n",
      "Epoch 036/051 | Loss 0.0662 | Win/lose count 12.0/10.0 (2.0)\n",
      "Epoch 037/051 | Loss 0.0018 | Win/lose count 3.5/9.0 (-5.5)\n",
      "Epoch 038/051 | Loss 0.2080 | Win/lose count 11.0/13.0 (-2.0)\n",
      "Epoch 039/051 | Loss 0.0586 | Win/lose count 8.5/14.0 (-5.5)\n",
      "Epoch 040/051 | Loss 0.2561 | Win/lose count 8.0/9.0 (-1.0)\n",
      "Epoch 041/051 | Loss 0.2071 | Win/lose count 7.0/17.0 (-10.0)\n",
      "Epoch 042/051 | Loss 0.0153 | Win/lose count 6.5/5.0 (1.5)\n",
      "Epoch 043/051 | Loss 0.0094 | Win/lose count 10.5/8.0 (2.5)\n",
      "Epoch 044/051 | Loss 0.0007 | Win/lose count 3.0/11.0 (-8.0)\n",
      "Epoch 045/051 | Loss 0.0870 | Win/lose count 10.5/10.0 (0.5)\n",
      "Epoch 046/051 | Loss 0.0564 | Win/lose count 5.0/3.0 (2.0)\n",
      "Epoch 047/051 | Loss 0.0007 | Win/lose count 5.5/4.0 (1.5)\n",
      "Epoch 048/051 | Loss 0.0626 | Win/lose count 10.5/9.0 (1.5)\n",
      "Epoch 049/051 | Loss 0.0006 | Win/lose count 4.5/9.0 (-4.5)\n",
      "Epoch 050/051 | Loss 0.0035 | Win/lose count 5.5/4.0 (1.5)\n"
     ]
    },
    {
     "data": {
      "text/html": [
       "<video alt=\"test\" controls>\n",
       "                <source src=\"data:video/mp4;base64,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\" type=\"video/mp4\" />\n",
       "             </video>"
      ],
      "text/plain": [
       "<IPython.core.display.HTML object>"
      ]
     },
     "execution_count": 39,
     "metadata": {},
     "output_type": "execute_result"
    }
   ],
   "source": [
    "env = Environment(grid_size=size, max_time=T, temperature=0.3)\n",
    "agent = DQN_CNN(size, lr=.1, epsilon = 0.1, memory_size=2000, batch_size = 32)\n",
    "train(agent,env,51,prefix='cnn_train')\n",
    "HTML(display_videos('cnn_train10.mp4'))"
   ]
  },
  {
   "cell_type": "markdown",
   "metadata": {},
   "source": [
    "***\n",
    "***\n",
    "__Question 9__ Test both algorithms and compare their performances. Which issue(s) do you observe? Observe also different behaviors by changing the temperature."
   ]
  },
  {
   "cell_type": "code",
   "execution_count": 44,
   "metadata": {},
   "outputs": [
    {
     "name": "stdout",
     "output_type": "stream",
     "text": [
      "Test of the CNN\n",
      "Win/lose count 0/0.0. Average score (0.0)\n",
      "Win/lose count 0/0.0. Average score (0.0)\n",
      "Win/lose count 1.0/0.0. Average score (0.3333333333333333)\n",
      "Win/lose count 1.5/-2.0. Average score (1.125)\n",
      "Win/lose count 1.5/-2.0. Average score (1.6)\n",
      "Final score: 1.6\n",
      "Test of the FC\n",
      "Win/lose count 1.5/-1.0. Average score (2.5)\n",
      "Win/lose count 0.5/-2.0. Average score (2.5)\n",
      "Win/lose count 1.0/0.0. Average score (2.0)\n",
      "Win/lose count 0.5/0.0. Average score (1.625)\n",
      "Win/lose count 1.5/0.0. Average score (1.6)\n",
      "Final score: 1.6\n"
     ]
    }
   ],
   "source": [
    "env = Environment(grid_size=size, max_time=T,temperature=0.3)\n",
    "agent_cnn = DQN_CNN(size, lr=.1, epsilon = 0.1, memory_size=2000, batch_size = 32)\n",
    "agent_cnn.load(name_weights='cnn_trainmodel.h5',name_model='cnn_trainmodel.json')\n",
    "\n",
    "agent_fc = DQN_FC(size, lr=.1, epsilon = 0.1, memory_size=2000, batch_size = 32)\n",
    "agent_fc.load(name_weights='fc_trainmodel.h5',name_model='fc_trainmodel.json')\n",
    "print('Test of the CNN')\n",
    "test(agent_cnn,env,5,prefix='cnn_test')\n",
    "print('Test of the FC')\n",
    "test(agent_fc,env,5,prefix='fc_test')"
   ]
  },
  {
   "cell_type": "code",
   "execution_count": null,
   "metadata": {
    "collapsed": true
   },
   "outputs": [],
   "source": [
    "HTML(display_videos('cnn_test10.mp4'))"
   ]
  },
  {
   "cell_type": "code",
   "execution_count": null,
   "metadata": {
    "collapsed": true
   },
   "outputs": [],
   "source": [
    "HTML(display_videos('fc_test10.mp4'))"
   ]
  },
  {
   "cell_type": "markdown",
   "metadata": {},
   "source": [
    "The CNN has better results that the FC even if in this situation, the score is the same (CNN is rising whereas FC is decreasing). I tried several parameters, including changing the ```temperature``` and ```epsilon```. However, we can see that the Agents tend to get stuck in infinite loops. In order to tackle this issue, we should add increasing malus to the cells we already visited n times. \n",
    "While playing with the parameters, I realized that increasing the temperature forces the agent to explore the map a bit more. With a small temperature, the Agent just tries to avoid the negative cells."
   ]
  },
  {
   "cell_type": "markdown",
   "metadata": {},
   "source": [
    "***\n",
    "\n",
    "The algorithm tends to not explore the map which can be an issue. We propose two ideas in order to encourage exploration:\n",
    "1. Incorporating a decreasing $\\epsilon$-greedy exploration. You can use the method ```set_epsilon```\n",
    "2. Append via the environment a new state that describes if a cell has been visited or not\n",
    "\n",
    "***\n",
    "__Question 10__ Design a new ```train_explore``` function and environment class ```EnvironmentExploring``` to tackle the issue of exploration.\n",
    "\n"
   ]
  },
  {
   "cell_type": "code",
   "execution_count": 45,
   "metadata": {},
   "outputs": [],
   "source": [
    "def train_explore(agent, env, epoch, prefix=''):\n",
    "    # Number of won games\n",
    "    score = 0\n",
    "    loss = 0\n",
    "    \n",
    "    current_epsilon = agent.epsilon\n",
    "    final_eps = 0.01\n",
    "    \n",
    "    step = (current_epsilon - final_eps) / epoch\n",
    "\n",
    "    for e in range(epoch):\n",
    "        \n",
    "        current_epsilon -= step\n",
    "        agent.set_epsilon(current_epsilon)\n",
    "        \n",
    "        # At each epoch, we restart to a fresh game and get the initial state\n",
    "        state = env.reset()\n",
    "        # This assumes that the games will terminate\n",
    "        game_over = False\n",
    "\n",
    "        win = 0\n",
    "        lose = 0\n",
    "\n",
    "        while not game_over:\n",
    "            action = agent.act(state)\n",
    "            prev_state = state\n",
    "            state, reward, game_over = env.act(action, train=True)\n",
    "\n",
    "            # Update the counters\n",
    "            if reward > 0:\n",
    "                win = win + reward\n",
    "            if reward < 0:\n",
    "                lose = lose -reward\n",
    "\n",
    "            # Apply the reinforcement strategy\n",
    "            loss = agent.reinforce(prev_state, state,  action, reward, game_over)\n",
    "\n",
    "        # Save as a mp4\n",
    "        if e % 10 == 0:\n",
    "            env.draw(prefix+str(e))\n",
    "\n",
    "        # Update stats\n",
    "        score += win-lose\n",
    "\n",
    "        print(\"Epoch {:03d}/{:03d} | Loss {:.4f} | Win/lose count {}/{} ({})\"\n",
    "              .format(e, epoch, loss, win, lose, win-lose))\n",
    "        agent.save(name_weights=prefix+'model.h5',name_model=prefix+'model.json')\n",
    "        \n",
    "class EnvironmentExploring(object):\n",
    "    def __init__(self, grid_size=10, max_time=500, temperature=0.1):\n",
    "        grid_size = grid_size+4\n",
    "        self.grid_size = grid_size\n",
    "        self.max_time = max_time\n",
    "        self.temperature = temperature\n",
    "\n",
    "        #board on which one plays\n",
    "        self.board = np.zeros((grid_size,grid_size))\n",
    "        self.position = np.zeros((grid_size,grid_size))\n",
    "        self.malus_position = np.zeros((grid_size,grid_size)).astype(int)\n",
    "\n",
    "        # coordinate of the cat\n",
    "        self.x = 0\n",
    "        self.y = 1\n",
    "\n",
    "        # self time\n",
    "        self.t = 0\n",
    "\n",
    "        self.scale=16\n",
    "\n",
    "        self.to_draw = np.zeros((max_time+2, grid_size*self.scale, grid_size*self.scale, 3))\n",
    "\n",
    "\n",
    "    def draw(self,e):\n",
    "        skvideo.io.vwrite(str(e) + '.mp4', self.to_draw)\n",
    "\n",
    "    def get_frame(self,t):\n",
    "        b = np.zeros((self.grid_size,self.grid_size,3))+128\n",
    "        b[self.board>0,0] = 256\n",
    "        b[self.board < 0, 2] = 256\n",
    "        b[self.x,self.y,:]=256\n",
    "        b[-2:,:,:]=0\n",
    "        b[:,-2:,:]=0\n",
    "        b[:2,:,:]=0\n",
    "        b[:,:2,:]=0\n",
    "        \n",
    "        b =  cv2.resize(b, None, fx=self.scale, fy=self.scale, interpolation=cv2.INTER_NEAREST)\n",
    "\n",
    "        self.to_draw[t,:,:,:]=b\n",
    "\n",
    "\n",
    "    def act(self, action, train=False):\n",
    "        \"\"\"This function returns the new state, reward and decides if the\n",
    "        game ends.\"\"\"\n",
    "\n",
    "        self.get_frame(int(self.t))\n",
    "\n",
    "        self.position = np.zeros((self.grid_size, self.grid_size))\n",
    "\n",
    "        self.position[0:2,:]= -1\n",
    "        self.position[:,0:2] = -1\n",
    "        self.position[-2:, :] = -1\n",
    "        self.position[:, -2:] = -1\n",
    "\n",
    "        self.position[self.x, self.y] = 1\n",
    "        if action == 0:\n",
    "            if self.x == self.grid_size-3:\n",
    "                self.x = self.x-1\n",
    "            else:\n",
    "                self.x = self.x + 1\n",
    "        elif action == 1:\n",
    "            if self.x == 2:\n",
    "                self.x = self.x+1\n",
    "            else:\n",
    "                self.x = self.x-1\n",
    "        elif action == 2:\n",
    "            if self.y == self.grid_size - 3:\n",
    "                self.y = self.y - 1\n",
    "            else:\n",
    "                self.y = self.y + 1\n",
    "        elif action == 3:\n",
    "            if self.y == 2:\n",
    "                self.y = self.y + 1\n",
    "            else:\n",
    "                self.y = self.y - 1\n",
    "        else:\n",
    "            RuntimeError('Error: action not recognized')\n",
    "            \n",
    "        reward = 0\n",
    "        if train:\n",
    "            reward += -self.malus_position[self.x, self.y]\n",
    "        self.malus_position[self.x, self.y] = 0.1\n",
    "\n",
    "        self.t = self.t + 1\n",
    "        reward += self.board[self.x, self.y]\n",
    "        self.board[self.x, self.y] = 0\n",
    "        game_over = self.t > self.max_time\n",
    "        state = np.concatenate(\n",
    "            (\n",
    "                self.malus_position.reshape(self.grid_size, self.grid_size, 1),\n",
    "                self.board.reshape(self.grid_size, self.grid_size, 1),\n",
    "                self.position.reshape(self.grid_size, self.grid_size,1)\n",
    "            )\n",
    "            , axis=2\n",
    "        )\n",
    "        \n",
    "        state = state[self.x-2:self.x+3,self.y-2:self.y+3,:]\n",
    "\n",
    "        return state, reward, game_over\n",
    "\n",
    "    def reset(self):\n",
    "        \"\"\"This function resets the game and returns the initial state\"\"\"\n",
    "\n",
    "        self.x = np.random.randint(3, self.grid_size-3, size=1)[0]\n",
    "        self.y = np.random.randint(3, self.grid_size-3, size=1)[0]\n",
    "        \n",
    "        self.malus_position = np.zeros((self.grid_size, self.grid_size))\n",
    "\n",
    "        bonus = 0.5 * np.random.binomial(1, self.temperature, size=self.grid_size**2)\n",
    "        bonus = bonus.reshape(self.grid_size, self.grid_size)\n",
    "\n",
    "        malus = -1.0 * np.random.binomial(1, self.temperature, size=self.grid_size**2)\n",
    "        malus = malus.reshape(self.grid_size, self.grid_size)\n",
    "\n",
    "        self.to_draw = np.zeros((self.max_time+2, self.grid_size*self.scale, self.grid_size*self.scale, 3))\n",
    "\n",
    "\n",
    "        malus[bonus>0]=0\n",
    "\n",
    "        self.board = bonus + malus\n",
    "\n",
    "        self.position = np.zeros((self.grid_size, self.grid_size))\n",
    "        self.position[0:2,:]= -1\n",
    "        self.position[:,0:2] = -1\n",
    "        self.position[-2:, :] = -1\n",
    "        self.position[:, -2:] = -1\n",
    "        self.board[self.x,self.y] = 0\n",
    "        self.t = 0\n",
    "\n",
    "        state = np.concatenate(\n",
    "            (\n",
    "            self.malus_position.reshape(self.grid_size, self.grid_size, 1),\n",
    "            self.board.reshape(self.grid_size, self.grid_size, 1),\n",
    "            self.position.reshape(self.grid_size, self.grid_size,1)\n",
    "            )\n",
    "            , axis=2\n",
    "        )\n",
    "\n",
    "        state = state[self.x - 2:self.x + 3, self.y - 2:self.y + 3, :]\n",
    "        return state"
   ]
  },
  {
   "cell_type": "code",
   "execution_count": 47,
   "metadata": {},
   "outputs": [
    {
     "name": "stdout",
     "output_type": "stream",
     "text": [
      "Epoch 000/051 | Loss 0.0922 | Win/lose count 1.5/21.80000000000005 (-20.30000000000005)\n",
      "Epoch 001/051 | Loss 0.1428 | Win/lose count 10.0/20.400000000000023 (-10.400000000000023)\n",
      "Epoch 002/051 | Loss 0.2450 | Win/lose count 8.0/21.80000000000003 (-13.80000000000003)\n",
      "Epoch 003/051 | Loss 0.2162 | Win/lose count 11.0/24.800000000000082 (-13.800000000000082)\n",
      "Epoch 004/051 | Loss 0.0069 | Win/lose count 8.0/23.400000000000077 (-15.400000000000077)\n",
      "Epoch 005/051 | Loss 0.0049 | Win/lose count 6.5/22.50000000000002 (-16.00000000000002)\n",
      "Epoch 006/051 | Loss 0.1431 | Win/lose count 5.0/22.900000000000045 (-17.900000000000045)\n",
      "Epoch 007/051 | Loss 0.0032 | Win/lose count 11.0/15.299999999999974 (-4.299999999999974)\n",
      "Epoch 008/051 | Loss 0.0046 | Win/lose count 6.0/21.60000000000004 (-15.60000000000004)\n",
      "Epoch 009/051 | Loss 0.0958 | Win/lose count 2.5/22.400000000000038 (-19.900000000000038)\n",
      "Epoch 010/051 | Loss 0.0990 | Win/lose count 5.5/19.300000000000004 (-13.800000000000004)\n",
      "Epoch 011/051 | Loss 0.0704 | Win/lose count 5.0/22.20000000000001 (-17.20000000000001)\n",
      "Epoch 012/051 | Loss 0.0049 | Win/lose count 2.0/19.700000000000014 (-17.700000000000014)\n",
      "Epoch 013/051 | Loss 0.2056 | Win/lose count 5.0/20.900000000000016 (-15.900000000000016)\n",
      "Epoch 014/051 | Loss 0.0048 | Win/lose count 7.5/19.800000000000026 (-12.300000000000026)\n",
      "Epoch 015/051 | Loss 0.0017 | Win/lose count 6.0/25.30000000000005 (-19.30000000000005)\n",
      "Epoch 016/051 | Loss 0.0922 | Win/lose count 10.0/23.20000000000006 (-13.20000000000006)\n",
      "Epoch 017/051 | Loss 0.2133 | Win/lose count 4.5/18.299999999999994 (-13.799999999999994)\n",
      "Epoch 018/051 | Loss 0.0025 | Win/lose count 4.0/23.500000000000068 (-19.500000000000068)\n",
      "Epoch 019/051 | Loss 0.0065 | Win/lose count 7.5/28.50000000000003 (-21.00000000000003)\n",
      "Epoch 020/051 | Loss 0.2359 | Win/lose count 9.5/21.50000000000002 (-12.000000000000021)\n",
      "Epoch 021/051 | Loss 0.0038 | Win/lose count 6.0/20.700000000000024 (-14.700000000000024)\n",
      "Epoch 022/051 | Loss 0.0934 | Win/lose count 5.5/22.10000000000002 (-16.60000000000002)\n",
      "Epoch 023/051 | Loss 0.0806 | Win/lose count 8.5/18.499999999999993 (-9.999999999999993)\n",
      "Epoch 024/051 | Loss 0.0041 | Win/lose count 9.0/17.599999999999984 (-8.599999999999984)\n",
      "Epoch 025/051 | Loss 0.1140 | Win/lose count 1.5/21.80000000000005 (-20.30000000000005)\n",
      "Epoch 026/051 | Loss 0.0086 | Win/lose count 9.0/25.400000000000055 (-16.400000000000055)\n",
      "Epoch 027/051 | Loss 0.0020 | Win/lose count 5.5/24.600000000000076 (-19.100000000000076)\n",
      "Epoch 028/051 | Loss 0.0119 | Win/lose count 5.5/25.600000000000033 (-20.100000000000033)\n",
      "Epoch 029/051 | Loss 0.0028 | Win/lose count 5.0/24.500000000000053 (-19.500000000000053)\n",
      "Epoch 030/051 | Loss 0.0033 | Win/lose count 6.5/21.600000000000048 (-15.100000000000048)\n",
      "Epoch 031/051 | Loss 0.0761 | Win/lose count 10.5/22.400000000000038 (-11.900000000000038)\n",
      "Epoch 032/051 | Loss 0.2384 | Win/lose count 7.5/17.399999999999984 (-9.899999999999984)\n",
      "Epoch 033/051 | Loss 0.0023 | Win/lose count 7.5/19.09999999999998 (-11.59999999999998)\n",
      "Epoch 034/051 | Loss 0.1248 | Win/lose count 10.0/26.800000000000082 (-16.800000000000082)\n",
      "Epoch 035/051 | Loss 0.0709 | Win/lose count 8.0/22.800000000000058 (-14.800000000000058)\n",
      "Epoch 036/051 | Loss 0.1163 | Win/lose count 8.5/28.30000000000009 (-19.80000000000009)\n",
      "Epoch 037/051 | Loss 0.0032 | Win/lose count 6.0/24.50000000000004 (-18.50000000000004)\n",
      "Epoch 038/051 | Loss 0.2309 | Win/lose count 8.0/18.300000000000004 (-10.300000000000004)\n",
      "Epoch 039/051 | Loss 0.1910 | Win/lose count 4.5/26.800000000000054 (-22.300000000000054)\n",
      "Epoch 040/051 | Loss 0.0032 | Win/lose count 12.5/24.20000000000009 (-11.700000000000092)\n",
      "Epoch 041/051 | Loss 0.1056 | Win/lose count 5.5/23.80000000000003 (-18.30000000000003)\n",
      "Epoch 042/051 | Loss 0.1296 | Win/lose count 5.5/18.499999999999982 (-12.999999999999982)\n",
      "Epoch 043/051 | Loss 0.0039 | Win/lose count 10.5/23.900000000000006 (-13.400000000000006)\n",
      "Epoch 044/051 | Loss 0.0039 | Win/lose count 7.0/23.70000000000008 (-16.70000000000008)\n",
      "Epoch 045/051 | Loss 0.0034 | Win/lose count 5.0/23.300000000000043 (-18.300000000000043)\n",
      "Epoch 046/051 | Loss 0.0867 | Win/lose count 9.0/22.400000000000023 (-13.400000000000023)\n",
      "Epoch 047/051 | Loss 0.0909 | Win/lose count 6.0/25.00000000000005 (-19.00000000000005)\n",
      "Epoch 048/051 | Loss 0.0024 | Win/lose count 4.5/23.500000000000046 (-19.000000000000046)\n",
      "Epoch 049/051 | Loss 0.1406 | Win/lose count 5.5/20.59999999999998 (-15.09999999999998)\n",
      "Epoch 050/051 | Loss 0.0902 | Win/lose count 7.0/25.200000000000063 (-18.200000000000063)\n"
     ]
    },
    {
     "data": {
      "text/html": [
       "<video alt=\"test\" controls>\n",
       "                <source src=\"data:video/mp4;base64,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\" type=\"video/mp4\" />\n",
       "             </video>"
      ],
      "text/plain": [
       "<IPython.core.display.HTML object>"
      ]
     },
     "execution_count": 47,
     "metadata": {},
     "output_type": "execute_result"
    }
   ],
   "source": [
    "# Training\n",
    "env = EnvironmentExploring(grid_size=size, max_time=T, temperature=0.2)\n",
    "agent = DQN_CNN(size, lr=.1, epsilon = 0.2, memory_size=2000, batch_size = 32,n_state=3)\n",
    "train_explore(agent, env, 51, prefix='cnn_train_explore')\n",
    "HTML(display_videos('cnn_train_explore10.mp4'))"
   ]
  },
  {
   "cell_type": "code",
   "execution_count": 49,
   "metadata": {},
   "outputs": [
    {
     "name": "stdout",
     "output_type": "stream",
     "text": [
      "Win/lose count 1.0/-1.0. Average score (2.0)\n",
      "Win/lose count 1.0/-3.0. Average score (3.0)\n",
      "Win/lose count 0.5/0.0. Average score (2.1666666666666665)\n",
      "Win/lose count 1.0/-2.0. Average score (2.375)\n",
      "Win/lose count 1.0/-1.0. Average score (2.3)\n",
      "Win/lose count 0/-2.0. Average score (2.25)\n",
      "Win/lose count 0.5/0.0. Average score (2.0)\n",
      "Win/lose count 0.5/0.0. Average score (1.8125)\n",
      "Win/lose count 0.5/0.0. Average score (1.6666666666666667)\n",
      "Win/lose count 0/0.0. Average score (1.5)\n",
      "Win/lose count 0/-3.0. Average score (1.6363636363636365)\n",
      "Final score: 1.6363636363636365\n"
     ]
    },
    {
     "data": {
      "text/html": [
       "<video alt=\"test\" controls>\n",
       "                <source src=\"data:video/mp4;base64,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\" type=\"video/mp4\" />\n",
       "             </video>"
      ],
      "text/plain": [
       "<IPython.core.display.HTML object>"
      ]
     },
     "execution_count": 49,
     "metadata": {},
     "output_type": "execute_result"
    }
   ],
   "source": [
    "# Evaluation\n",
    "agent.set_epsilon(0.1)\n",
    "test(agent,env,11\n",
    "     ,prefix='cnn_test_explore')\n",
    "HTML(display_videos('cnn_test_explore10.mp4'))"
   ]
  },
  {
   "cell_type": "markdown",
   "metadata": {},
   "source": [
    "***\n",
    "***\n",
    "__BONUS question__ Use the expert DQN from the previous question to generate some winning games. Train a model that mimicks its behavior. Compare the performances."
   ]
  },
  {
   "cell_type": "markdown",
   "metadata": {},
   "source": []
  },
  {
   "cell_type": "markdown",
   "metadata": {},
   "source": [
    "***"
   ]
  }
 ],
 "metadata": {
  "kernelspec": {
   "display_name": "Python 3",
   "language": "python",
   "name": "python3"
  },
  "language_info": {
   "codemirror_mode": {
    "name": "ipython",
    "version": 3
   },
   "file_extension": ".py",
   "mimetype": "text/x-python",
   "name": "python",
   "nbconvert_exporter": "python",
   "pygments_lexer": "ipython3",
   "version": "3.6.6"
  }
 },
 "nbformat": 4,
 "nbformat_minor": 2
}
